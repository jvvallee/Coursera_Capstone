{
 "cells": [
  {
   "cell_type": "markdown",
   "metadata": {},
   "source": [
    "# Discovering Lyon (France)"
   ]
  },
  {
   "cell_type": "markdown",
   "metadata": {},
   "source": [
    "## 1. Introduction"
   ]
  },
  {
   "cell_type": "markdown",
   "metadata": {},
   "source": [
    "### 1.1 Background"
   ]
  },
  {
   "cell_type": "markdown",
   "metadata": {},
   "source": [
    "Lyon is one of the main French cities. It is particularly famous for its cuisine and gastronomy as well as for its historical and architectural landmarks.\n",
    "Half a million people live there and every year thousands of new citizens from all over the world move in the city."
   ]
  },
  {
   "cell_type": "markdown",
   "metadata": {},
   "source": [
    "### 1.2 Problem"
   ]
  },
  {
   "cell_type": "markdown",
   "metadata": {},
   "source": [
    "Have you ever moved to a city you did not know ? It can be a real headache to find out which neighborhood would be best for you depending on your hobbies.\n",
    "This project will describe Lyon's boroughs in order to help new citizens to find out which one would be best for them."
   ]
  },
  {
   "cell_type": "markdown",
   "metadata": {},
   "source": [
    "## 2. Data"
   ]
  },
  {
   "cell_type": "markdown",
   "metadata": {},
   "source": [
    "For this study, we will use the following data from Wikipédia that represents the different boroughs of Lyon. We will need to put the data into a dataframe and to find out the location of all boroughs using Google Maps.\n",
    "\n",
    "    1st arrondissement: Slopes of La Croix-Rousse, Terreaux, Martinière/St-Vincent\n",
    "    2nd arrondissement: Cordeliers, Bellecour, Ainay, Perrache, Confluence, Sainte-Blandine\n",
    "    3rd arrondissement: Guillotière (north), Préfecture, Part-Dieu, Villette, Dauphiné/Sans Souci, Montchat, Grange Blanche (north), Monplaisir (north)\n",
    "    4th arrondissement: Plateau de la Croix-Rousse, Serin\n",
    "    5th arrondissement: Vieux Lyon (Saint-Paul, Saint-Jean, Saint-Georges), Saint-Just, Saint-Irénée,[31] Fourvière, Point du Jour, Ménival, Battières, Champvert (south)\n",
    "    6th arrondissement: Brotteaux, Bellecombe, Parc de la Tête d'or, Cité Internationale\n",
    "    7th arrondissement: Guillotière (south), Jean Macé, Gerland\n",
    "    8th arrondissement: Monplaisir (south), Bachut, États-Unis, Grand Trou/Moulin à Vent, Grange Blanche (south), Laënnec, Mermoz, Monplaisir-la-Plaine\n",
    "    9th arrondissement: Vaise, Duchère, Rochecardon, St-Rambert-l'Île-Barbe, Gorge de Loup, Observance, Champvert (north)\n",
    "\n",
    "We will then use the Foursquare's API to find out about the main venues of these boroughs and we will try to determine the main kinds of activities that can be done in each boroughs.\n",
    "Concerning the Foursquare data, we will focus on the following categories:\n",
    "    Culture and leisure: 4d4b7104d754a06370d81259\n",
    "    University facilities: 4d4b7105d754a06372d81259\n",
    "    Events: 4d4b7105d754a06373d81259\n",
    "    Partying: 4d4b7105d754a06376d81259\n",
    "    Outdoor and leisure: 4d4b7105d754a06377d81259\n",
    "Note that we will not be taking restaurants, hotels and shops into account as there are many of them in each borough and we believe it would not be relevant."
   ]
  }
 ],
 "metadata": {
  "kernelspec": {
   "display_name": "Python 3",
   "language": "python",
   "name": "python3"
  },
  "language_info": {
   "codemirror_mode": {
    "name": "ipython",
    "version": 3
   },
   "file_extension": ".py",
   "mimetype": "text/x-python",
   "name": "python",
   "nbconvert_exporter": "python",
   "pygments_lexer": "ipython3",
   "version": "3.7.3"
  }
 },
 "nbformat": 4,
 "nbformat_minor": 2
}
